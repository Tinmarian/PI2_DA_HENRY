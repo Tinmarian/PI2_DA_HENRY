{
 "cells": [
  {
   "cell_type": "markdown",
   "metadata": {},
   "source": [
    "# Desarrollo del código necesario para extraer datos de Binance.\n",
    "\n",
    "Debido a los inconvenientes que vemos en los datos de coingecko, vamos a utilizar los datos de binance como datos principales y vamos a dejar los de CG como complementarios."
   ]
  },
  {
   "cell_type": "code",
   "execution_count": 1,
   "metadata": {},
   "outputs": [],
   "source": [
    "from binance import Client\n",
    "import pandas as pd\n",
    "import os\n",
    "import numpy as np\n",
    "from datetime import datetime\n",
    "\n",
    "client = Client()"
   ]
  },
  {
   "cell_type": "code",
   "execution_count": 23,
   "metadata": {},
   "outputs": [],
   "source": [
    "def pull_historical_data(pair,kline_interval):\n",
    "\n",
    "    file_path = f'data/by{kline_interval}/{pair}.csv'\n",
    "    dir_path = f'data/by{kline_interval}/'\n",
    "    \n",
    "    if os.path.exists(dir_path):\n",
    "        pass\n",
    "    else:\n",
    "        os.mkdir(dir_path)\n",
    "\n",
    "    df = pd.DataFrame(client.get_historical_klines(pair.upper(),kline_interval,'14 years ago UTC'))\n",
    "    df = df.iloc[:,:6]\n",
    "    df.columns = ['Fecha','Abre','Alto','Bajo','Cierra','Volumen']\n",
    "    df['Fecha'] = pd.to_datetime(df.Fecha,unit='ms')\n",
    "    df = df.set_index('Fecha')\n",
    "    df = df.astype(float)\n",
    "    df.to_csv(file_path)"
   ]
  },
  {
   "cell_type": "code",
   "execution_count": 24,
   "metadata": {},
   "outputs": [
    {
     "data": {
      "text/plain": [
       "['btcusdt',\n",
       " 'ethusdt',\n",
       " 'bnbusdt',\n",
       " 'xrpusdt',\n",
       " 'adausdt',\n",
       " 'solusdt',\n",
       " 'dogeusdt',\n",
       " 'trxusdt',\n",
       " 'dotusdt',\n",
       " 'maticusdt',\n",
       " 'shibusdt',\n",
       " 'ltcusdt']"
      ]
     },
     "execution_count": 24,
     "metadata": {},
     "output_type": "execute_result"
    }
   ],
   "source": [
    "# coins = ['bitcoin','ethereum','binancecoin','ripple','cardano','solana','dogecoin','tron','polkadot','matic-network','shiba-inu','litecoin']\n",
    "symbols = ['btc','eth','bnb','xrp','ada','sol','doge','trx','dot','matic','shib','ltc']\n",
    "for i in range(len(symbols)):\n",
    "    symbols[i] = symbols[i] + 'usdt'\n",
    "symbols"
   ]
  },
  {
   "cell_type": "code",
   "execution_count": 25,
   "metadata": {},
   "outputs": [],
   "source": [
    "for i in range(len(coins)):\n",
    "    pull_historical_data(pair=symbols[i],kline_interval='1d')"
   ]
  },
  {
   "cell_type": "markdown",
   "metadata": {},
   "source": [
    "### Datos históricos completos por día.\n",
    "\n",
    "Ahora ya tenemos los datos históricos de cada una de las criptomonedas que vamos a analizar. Datos que también pudimos obtener de CoinGecko. Estos datos sí los podemos cruzar en busca de relaciones o insights.\n",
    "\n",
    "Lo que sigue es ver si otros intervalos pueden ser de ayuda."
   ]
  }
 ],
 "metadata": {
  "kernelspec": {
   "display_name": "Python 3",
   "language": "python",
   "name": "python3"
  },
  "language_info": {
   "codemirror_mode": {
    "name": "ipython",
    "version": 3
   },
   "file_extension": ".py",
   "mimetype": "text/x-python",
   "name": "python",
   "nbconvert_exporter": "python",
   "pygments_lexer": "ipython3",
   "version": "3.10.8"
  },
  "orig_nbformat": 4
 },
 "nbformat": 4,
 "nbformat_minor": 2
}
