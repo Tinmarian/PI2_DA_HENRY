{
 "cells": [
  {
   "cell_type": "markdown",
   "metadata": {},
   "source": [
    "# Desarrollo del código necesario para la obtención de los datos principales.\n",
    "\n",
    "Para este proyecto, los datos que utilizaremos principalmente serán aquellos que provienen de la API de CoinGecko. Utilizaremos la librería pycoingecko."
   ]
  },
  {
   "cell_type": "markdown",
   "metadata": {},
   "source": [
    "###  Trabajando con la librería pycoingecko.\n",
    "\n",
    "Lo primero que debemos hacer, es entender los métodos que vamos a utilizar. A continuación, vamos a trabajar por primera vez con la librería."
   ]
  },
  {
   "cell_type": "code",
   "execution_count": 13,
   "metadata": {},
   "outputs": [],
   "source": [
    "from pycoingecko import CoinGeckoAPI\n",
    "import pandas as pd\n",
    "from datetime import timedelta,datetime\n",
    "\n",
    "cg = CoinGeckoAPI()"
   ]
  },
  {
   "cell_type": "code",
   "execution_count": 14,
   "metadata": {},
   "outputs": [],
   "source": [
    "# Función para crear dataframe de precios, market_cap y volumen de una criptomoneda específica, con datos de las últimas 24 horas, además de otro dataframe con datos de velas.\n",
    "def df_onecoin_1day(coin:str,symbol,days=1):\n",
    "    data = cg.get_coin_market_chart_by_id(\n",
    "        id=coin,\n",
    "        vs_currency = 'usd',\n",
    "        days = days,\n",
    "        localization = False\n",
    "    )\n",
    "\n",
    "    dfx = pd.DataFrame()\n",
    "    j = 1\n",
    "    for i in data.keys():\n",
    "        if j == 1:\n",
    "            dfx = pd.DataFrame(data[i],columns = ['Fecha',i])\n",
    "        else:\n",
    "            df = pd.DataFrame(data[i],columns = ['Fecha',i])\n",
    "            dfx = dfx.merge(df)\n",
    "        j += 1\n",
    "    dfx.columns = ['Fecha','Precios','Market_Cap','Volumen']\n",
    "    dfx['Fecha'] = pd.to_datetime(df.Fecha,unit='ms')\n",
    "    \n",
    "    for i in range(len(dfx)):\n",
    "        if dfx.Fecha[i].minute <= 32 and dfx.Fecha[i].minute > 30:\n",
    "            dfx.loc[i,'Fecha'] = pd.Timestamp(datetime.strptime(dfx.Fecha[i].strftime('%Y-%m-%d %H:%M'),'%Y-%m-%d %H:%M') \n",
    "                                                - timedelta(minutes=dfx.Fecha[i].minute - 30)\n",
    "                                            )\n",
    "        elif dfx.Fecha[i].minute >= 28 and dfx.Fecha[i].minute < 30:\n",
    "            dfx.loc[i,'Fecha'] = pd.Timestamp(datetime.strptime(dfx.Fecha[i].strftime('%Y-%m-%d %H:%M'),'%Y-%m-%d %H:%M') \n",
    "                                                + timedelta(minutes=30 - dfx.Fecha[i].minute)\n",
    "                                            )\n",
    "        elif dfx.Fecha[i].minute <= 2 and dfx.Fecha[i].minute > 0:\n",
    "            dfx.loc[i,'Fecha'] = pd.Timestamp(datetime.strptime(dfx.Fecha[i].strftime('%Y-%m-%d %H:%M'),'%Y-%m-%d %H:%M') \n",
    "                                                - timedelta(minutes=dfx.Fecha[i].minute)\n",
    "                                            )\n",
    "        elif dfx.Fecha[i].minute >= 58 and dfx.Fecha[i].minute <= 59:\n",
    "            dfx.loc[i,'Fecha'] = pd.Timestamp(datetime.strptime(dfx.Fecha[i].strftime('%Y-%m-%d %H:%M'),'%Y-%m-%d %H:%M') \n",
    "                                                + timedelta(minutes=60 - dfx.Fecha[i].minute)\n",
    "                                            )\n",
    "        else:\n",
    "            dfx.loc[i,'Fecha'] = pd.Timestamp(datetime.strptime(dfx.Fecha[i].strftime('%Y-%m-%d %H:%M'),'%Y-%m-%d %H:%M'))\n",
    "    dfx = dfx[['Fecha','Market_Cap','Volumen']]\n",
    "    \n",
    "    df = pd.DataFrame(cg.get_coin_ohlc_by_id(\n",
    "        id=coin,\n",
    "        vs_currency = 'usd',\n",
    "        days = days\n",
    "        ),columns = ['Fecha','Abre','Alto','Bajo','Cierra'])\n",
    "    df['Fecha'] = pd.to_datetime(df.Fecha,unit='ms')\n",
    "    \n",
    "    df = df.merge(dfx,how='left')\n",
    "    \n",
    "    df.to_csv(f'data/{symbol}_OHLC.csv',index=False)\n",
    "    \n",
    "    return df\n",
    "\n",
    "def df_onecoin(coin:str,symbol,days=3764):\n",
    "        data = cg.get_coin_market_chart_by_id(\n",
    "                id = coin,\n",
    "                vs_currency = 'usd',\n",
    "                days = days,\n",
    "                localization = False\n",
    "                )\n",
    "        dfx = pd.DataFrame()\n",
    "        j = 1\n",
    "        for i in data.keys():\n",
    "                if j == 1:\n",
    "                        dfx = pd.DataFrame(data[i],columns = ['Fecha',i])\n",
    "                else:\n",
    "                        df = pd.DataFrame(data[i],columns = ['Fecha',i])\n",
    "                        dfx = dfx.merge(df)\n",
    "                j += 1\n",
    "        dfx.columns = ['Fecha','Precios','Market_Cap','Volumen']\n",
    "        # dfx = dfx[['Fecha','Precios','Volumen']]\n",
    "        dfx['Fecha'] = pd.to_datetime(dfx.Fecha,unit='ms')\n",
    "        \n",
    "        dfx.to_csv(f'data/{symbol}.csv',index=False)\n",
    "        \n",
    "        return dfx"
   ]
  },
  {
   "cell_type": "code",
   "execution_count": 9,
   "metadata": {},
   "outputs": [],
   "source": [
    "# Aquí creamos una lista con los id's y otra con los símbolos.\n",
    "coins = pd.DataFrame(cg.get_coins_markets(vs_currency ='usd')).head(15)['id'].to_list()\n",
    "coins.remove('tether')\n",
    "coins.remove('usd-coin')\n",
    "coins.remove('staked-ether')\n",
    "symbols = pd.DataFrame(cg.get_coins_markets(vs_currency ='usd')).head(15)['symbol'].to_list()\n",
    "symbols.remove('usdt')\n",
    "symbols.remove('usdc')\n",
    "symbols.remove('steth')\n",
    "\n",
    "# Posteriormente utilizamos las funciones para crear datasets del total de la vida de cada cripto y de un día atrás.\n",
    "for i in range(len(coins)):\n",
    "    # df_onecoin_1day(coin=coins[i],symbol=symbols[i])\n",
    "    df_onecoin(coin=coins[i],symbol=symbols[i])"
   ]
  },
  {
   "cell_type": "code",
   "execution_count": 5,
   "metadata": {},
   "outputs": [
    {
     "data": {
      "text/plain": [
       "['bitcoin',\n",
       " 'ethereum',\n",
       " 'binancecoin',\n",
       " 'ripple',\n",
       " 'cardano',\n",
       " 'solana',\n",
       " 'dogecoin',\n",
       " 'tron',\n",
       " 'polkadot',\n",
       " 'matic-network',\n",
       " 'shiba-inu',\n",
       " 'litecoin']"
      ]
     },
     "execution_count": 5,
     "metadata": {},
     "output_type": "execute_result"
    }
   ],
   "source": [
    "# Lista de criptomonedas que vamos a utilizar.\n",
    "coins"
   ]
  },
  {
   "cell_type": "code",
   "execution_count": 6,
   "metadata": {},
   "outputs": [
    {
     "data": {
      "text/plain": [
       "['btc',\n",
       " 'eth',\n",
       " 'bnb',\n",
       " 'xrp',\n",
       " 'ada',\n",
       " 'sol',\n",
       " 'doge',\n",
       " 'trx',\n",
       " 'dot',\n",
       " 'matic',\n",
       " 'shib',\n",
       " 'ltc']"
      ]
     },
     "execution_count": 6,
     "metadata": {},
     "output_type": "execute_result"
    }
   ],
   "source": [
    "symbols"
   ]
  },
  {
   "cell_type": "code",
   "execution_count": 11,
   "metadata": {},
   "outputs": [
    {
     "data": {
      "text/html": [
       "<div>\n",
       "<style scoped>\n",
       "    .dataframe tbody tr th:only-of-type {\n",
       "        vertical-align: middle;\n",
       "    }\n",
       "\n",
       "    .dataframe tbody tr th {\n",
       "        vertical-align: top;\n",
       "    }\n",
       "\n",
       "    .dataframe thead th {\n",
       "        text-align: right;\n",
       "    }\n",
       "</style>\n",
       "<table border=\"1\" class=\"dataframe\">\n",
       "  <thead>\n",
       "    <tr style=\"text-align: right;\">\n",
       "      <th></th>\n",
       "      <th>Fecha</th>\n",
       "      <th>Abre</th>\n",
       "      <th>Alto</th>\n",
       "      <th>Bajo</th>\n",
       "      <th>Cierra</th>\n",
       "      <th>Market_Cap</th>\n",
       "      <th>Volumen</th>\n",
       "    </tr>\n",
       "  </thead>\n",
       "  <tbody>\n",
       "    <tr>\n",
       "      <th>0</th>\n",
       "      <td>2023-08-17 03:00:00</td>\n",
       "      <td>0.068046</td>\n",
       "      <td>0.068046</td>\n",
       "      <td>0.068046</td>\n",
       "      <td>0.068046</td>\n",
       "      <td>9.583335e+09</td>\n",
       "      <td>5.249407e+08</td>\n",
       "    </tr>\n",
       "    <tr>\n",
       "      <th>1</th>\n",
       "      <td>2023-08-17 03:30:00</td>\n",
       "      <td>0.067995</td>\n",
       "      <td>0.068179</td>\n",
       "      <td>0.067995</td>\n",
       "      <td>0.068179</td>\n",
       "      <td>9.575051e+09</td>\n",
       "      <td>5.720336e+08</td>\n",
       "    </tr>\n",
       "    <tr>\n",
       "      <th>2</th>\n",
       "      <td>2023-08-17 04:00:00</td>\n",
       "      <td>0.068254</td>\n",
       "      <td>0.068363</td>\n",
       "      <td>0.068123</td>\n",
       "      <td>0.068123</td>\n",
       "      <td>9.602263e+09</td>\n",
       "      <td>5.241845e+08</td>\n",
       "    </tr>\n",
       "    <tr>\n",
       "      <th>3</th>\n",
       "      <td>2023-08-17 04:30:00</td>\n",
       "      <td>0.068128</td>\n",
       "      <td>0.068129</td>\n",
       "      <td>0.068038</td>\n",
       "      <td>0.068050</td>\n",
       "      <td>9.567986e+09</td>\n",
       "      <td>5.369828e+08</td>\n",
       "    </tr>\n",
       "    <tr>\n",
       "      <th>4</th>\n",
       "      <td>2023-08-17 05:00:00</td>\n",
       "      <td>0.068015</td>\n",
       "      <td>0.068015</td>\n",
       "      <td>0.067919</td>\n",
       "      <td>0.067941</td>\n",
       "      <td>9.557298e+09</td>\n",
       "      <td>5.701636e+08</td>\n",
       "    </tr>\n",
       "  </tbody>\n",
       "</table>\n",
       "</div>"
      ],
      "text/plain": [
       "                 Fecha      Abre      Alto      Bajo    Cierra    Market_Cap  \\\n",
       "0  2023-08-17 03:00:00  0.068046  0.068046  0.068046  0.068046  9.583335e+09   \n",
       "1  2023-08-17 03:30:00  0.067995  0.068179  0.067995  0.068179  9.575051e+09   \n",
       "2  2023-08-17 04:00:00  0.068254  0.068363  0.068123  0.068123  9.602263e+09   \n",
       "3  2023-08-17 04:30:00  0.068128  0.068129  0.068038  0.068050  9.567986e+09   \n",
       "4  2023-08-17 05:00:00  0.068015  0.068015  0.067919  0.067941  9.557298e+09   \n",
       "\n",
       "        Volumen  \n",
       "0  5.249407e+08  \n",
       "1  5.720336e+08  \n",
       "2  5.241845e+08  \n",
       "3  5.369828e+08  \n",
       "4  5.701636e+08  "
      ]
     },
     "execution_count": 11,
     "metadata": {},
     "output_type": "execute_result"
    }
   ],
   "source": [
    "pd.read_csv('data/doge_OHLC.csv').head()"
   ]
  },
  {
   "cell_type": "markdown",
   "metadata": {},
   "source": [
    "### Problemas con los datos de CoinGecko.\n",
    "\n",
    "Los datos que nos entrega coingecko no son muy útiles puesto que nos da las temporalidades que quiere para los diferentes días atrás que extraemos, lo cual limita nuestros procedimientos.\n",
    "\n",
    "Debido a esto, vamos a usar los datos más limpios que podamos obtener de esta API y los vamos a complementar con los de Binance (aunque si somos realistas, los datos que serán complementarios van a ser los de coingecko)."
   ]
  }
 ],
 "metadata": {
  "kernelspec": {
   "display_name": "Python 3",
   "language": "python",
   "name": "python3"
  },
  "language_info": {
   "codemirror_mode": {
    "name": "ipython",
    "version": 3
   },
   "file_extension": ".py",
   "mimetype": "text/x-python",
   "name": "python",
   "nbconvert_exporter": "python",
   "pygments_lexer": "ipython3",
   "version": "3.10.8"
  },
  "orig_nbformat": 4
 },
 "nbformat": 4,
 "nbformat_minor": 2
}
